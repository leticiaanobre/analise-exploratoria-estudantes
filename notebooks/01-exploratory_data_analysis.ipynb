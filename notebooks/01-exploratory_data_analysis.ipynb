{
 "cells": [
  {
   "cell_type": "markdown",
   "metadata": {},
   "source": [
    "# Análise exploratória de dados"
   ]
  },
  {
   "cell_type": "markdown",
   "metadata": {},
   "source": [
    "## 1. Descrição dos dados"
   ]
  },
  {
   "cell_type": "markdown",
   "metadata": {},
   "source": [
    "### 1.1 Configurações iniciais"
   ]
  },
  {
   "cell_type": "code",
   "execution_count": 1,
   "metadata": {},
   "outputs": [],
   "source": [
    "import pandas as pd\n",
    "import numpy as np\n",
    "import seaborn as sns\n",
    "from matplotlib import pyplot as plt\n",
    "from pathlib import Path"
   ]
  },
  {
   "cell_type": "markdown",
   "metadata": {},
   "source": [
    "### 1.2 Dicionário de dados"
   ]
  },
  {
   "cell_type": "code",
   "execution_count": 5,
   "metadata": {},
   "outputs": [
    {
     "data": {
      "text/html": [
       "<div>\n",
       "<style scoped>\n",
       "    .dataframe tbody tr th:only-of-type {\n",
       "        vertical-align: middle;\n",
       "    }\n",
       "\n",
       "    .dataframe tbody tr th {\n",
       "        vertical-align: top;\n",
       "    }\n",
       "\n",
       "    .dataframe thead th {\n",
       "        text-align: right;\n",
       "    }\n",
       "</style>\n",
       "<table border=\"1\" class=\"dataframe\">\n",
       "  <thead>\n",
       "    <tr style=\"text-align: right;\">\n",
       "      <th></th>\n",
       "      <th>variavel</th>\n",
       "      <th>significado</th>\n",
       "      <th>tipo</th>\n",
       "      <th>subtipo</th>\n",
       "      <th>resposta</th>\n",
       "    </tr>\n",
       "  </thead>\n",
       "  <tbody>\n",
       "    <tr>\n",
       "      <th>0</th>\n",
       "      <td>gender</td>\n",
       "      <td>Gênero do aluno</td>\n",
       "      <td>Qualitativa</td>\n",
       "      <td>Nominal</td>\n",
       "      <td>False</td>\n",
       "    </tr>\n",
       "    <tr>\n",
       "      <th>1</th>\n",
       "      <td>NationalITy</td>\n",
       "      <td>Nacionalidade do aluno</td>\n",
       "      <td>Qualitativa</td>\n",
       "      <td>Nominal</td>\n",
       "      <td>False</td>\n",
       "    </tr>\n",
       "    <tr>\n",
       "      <th>2</th>\n",
       "      <td>PlaceofBirth</td>\n",
       "      <td>Local de nascimento do aluno</td>\n",
       "      <td>Qualitativa</td>\n",
       "      <td>Nominal</td>\n",
       "      <td>False</td>\n",
       "    </tr>\n",
       "    <tr>\n",
       "      <th>3</th>\n",
       "      <td>StageID</td>\n",
       "      <td>Nível de escolaridade a que o aluno pertence</td>\n",
       "      <td>Qualitativa</td>\n",
       "      <td>Ordinal</td>\n",
       "      <td>False</td>\n",
       "    </tr>\n",
       "    <tr>\n",
       "      <th>4</th>\n",
       "      <td>GradeID</td>\n",
       "      <td>A série em que o aluno está matriculado</td>\n",
       "      <td>Qualitativa</td>\n",
       "      <td>Ordinal</td>\n",
       "      <td>False</td>\n",
       "    </tr>\n",
       "    <tr>\n",
       "      <th>5</th>\n",
       "      <td>SectionID</td>\n",
       "      <td>Sala de aula à qual o aluno pertence</td>\n",
       "      <td>Qualitativa</td>\n",
       "      <td>Nominal</td>\n",
       "      <td>False</td>\n",
       "    </tr>\n",
       "    <tr>\n",
       "      <th>6</th>\n",
       "      <td>Topic</td>\n",
       "      <td>Tópico do curso</td>\n",
       "      <td>Qualitativa</td>\n",
       "      <td>Nominal</td>\n",
       "      <td>False</td>\n",
       "    </tr>\n",
       "    <tr>\n",
       "      <th>7</th>\n",
       "      <td>Semester</td>\n",
       "      <td>Semestre do ano letivo</td>\n",
       "      <td>Qualitativa</td>\n",
       "      <td>Ordinal</td>\n",
       "      <td>False</td>\n",
       "    </tr>\n",
       "    <tr>\n",
       "      <th>8</th>\n",
       "      <td>Relation</td>\n",
       "      <td>Progenitor responsável pelo aluno</td>\n",
       "      <td>Qualitativa</td>\n",
       "      <td>Nominal</td>\n",
       "      <td>False</td>\n",
       "    </tr>\n",
       "    <tr>\n",
       "      <th>9</th>\n",
       "      <td>raisedhands</td>\n",
       "      <td>Número de vezes que o aluno levantou a mão</td>\n",
       "      <td>Quantitativa</td>\n",
       "      <td>Discreta</td>\n",
       "      <td>False</td>\n",
       "    </tr>\n",
       "    <tr>\n",
       "      <th>10</th>\n",
       "      <td>VisITedResources</td>\n",
       "      <td>Número de vezes que o aluno visitou o conteúdo...</td>\n",
       "      <td>Quantitativa</td>\n",
       "      <td>Discreta</td>\n",
       "      <td>False</td>\n",
       "    </tr>\n",
       "    <tr>\n",
       "      <th>11</th>\n",
       "      <td>AnnouncementsView</td>\n",
       "      <td>Número de vezes que o aluno conferiu os anúncios</td>\n",
       "      <td>Quantitativa</td>\n",
       "      <td>Discreta</td>\n",
       "      <td>False</td>\n",
       "    </tr>\n",
       "    <tr>\n",
       "      <th>12</th>\n",
       "      <td>Discussion</td>\n",
       "      <td>Número de vezes que o aluno participou de disc...</td>\n",
       "      <td>Quantitativa</td>\n",
       "      <td>Discreta</td>\n",
       "      <td>False</td>\n",
       "    </tr>\n",
       "    <tr>\n",
       "      <th>13</th>\n",
       "      <td>ParentAnsweringSurvey</td>\n",
       "      <td>Se os pais responderam à pesquisa</td>\n",
       "      <td>Qualitativa</td>\n",
       "      <td>Nominal</td>\n",
       "      <td>False</td>\n",
       "    </tr>\n",
       "    <tr>\n",
       "      <th>14</th>\n",
       "      <td>ParentschoolSatisfaction</td>\n",
       "      <td>O grau de satisfação dos pais com a escola</td>\n",
       "      <td>Qualitativa</td>\n",
       "      <td>Nominal</td>\n",
       "      <td>False</td>\n",
       "    </tr>\n",
       "    <tr>\n",
       "      <th>15</th>\n",
       "      <td>StudentAbsenceDays</td>\n",
       "      <td>Número de dias que um aluno esteve ausente</td>\n",
       "      <td>Qualitativa</td>\n",
       "      <td>Ordinal</td>\n",
       "      <td>False</td>\n",
       "    </tr>\n",
       "    <tr>\n",
       "      <th>16</th>\n",
       "      <td>Class</td>\n",
       "      <td>Indicador de desempenho do aluno</td>\n",
       "      <td>Qualitativa</td>\n",
       "      <td>Ordinal</td>\n",
       "      <td>True</td>\n",
       "    </tr>\n",
       "  </tbody>\n",
       "</table>\n",
       "</div>"
      ],
      "text/plain": [
       "                    variavel  \\\n",
       "0                     gender   \n",
       "1                NationalITy   \n",
       "2               PlaceofBirth   \n",
       "3                    StageID   \n",
       "4                    GradeID   \n",
       "5                  SectionID   \n",
       "6                      Topic   \n",
       "7                   Semester   \n",
       "8                   Relation   \n",
       "9                raisedhands   \n",
       "10          VisITedResources   \n",
       "11         AnnouncementsView   \n",
       "12                Discussion   \n",
       "13     ParentAnsweringSurvey   \n",
       "14  ParentschoolSatisfaction   \n",
       "15        StudentAbsenceDays   \n",
       "16                     Class   \n",
       "\n",
       "                                          significado          tipo   subtipo  \\\n",
       "0                                     Gênero do aluno   Qualitativa   Nominal   \n",
       "1                              Nacionalidade do aluno   Qualitativa   Nominal   \n",
       "2                        Local de nascimento do aluno   Qualitativa   Nominal   \n",
       "3        Nível de escolaridade a que o aluno pertence   Qualitativa   Ordinal   \n",
       "4             A série em que o aluno está matriculado   Qualitativa   Ordinal   \n",
       "5                Sala de aula à qual o aluno pertence   Qualitativa   Nominal   \n",
       "6                                     Tópico do curso   Qualitativa   Nominal   \n",
       "7                              Semestre do ano letivo   Qualitativa   Ordinal   \n",
       "8                   Progenitor responsável pelo aluno   Qualitativa   Nominal   \n",
       "9          Número de vezes que o aluno levantou a mão  Quantitativa  Discreta   \n",
       "10  Número de vezes que o aluno visitou o conteúdo...  Quantitativa  Discreta   \n",
       "11   Número de vezes que o aluno conferiu os anúncios  Quantitativa  Discreta   \n",
       "12  Número de vezes que o aluno participou de disc...  Quantitativa  Discreta   \n",
       "13                  Se os pais responderam à pesquisa   Qualitativa   Nominal   \n",
       "14         O grau de satisfação dos pais com a escola   Qualitativa   Nominal   \n",
       "15         Número de dias que um aluno esteve ausente   Qualitativa   Ordinal   \n",
       "16                   Indicador de desempenho do aluno   Qualitativa   Ordinal   \n",
       "\n",
       "    resposta  \n",
       "0      False  \n",
       "1      False  \n",
       "2      False  \n",
       "3      False  \n",
       "4      False  \n",
       "5      False  \n",
       "6      False  \n",
       "7      False  \n",
       "8      False  \n",
       "9      False  \n",
       "10     False  \n",
       "11     False  \n",
       "12     False  \n",
       "13     False  \n",
       "14     False  \n",
       "15     False  \n",
       "16      True  "
      ]
     },
     "execution_count": 5,
     "metadata": {},
     "output_type": "execute_result"
    }
   ],
   "source": [
    "data_path = Path('../data/external/dicionario.csv')\n",
    "df_dict = pd.read_csv(data_path) #Obtendo o dataset\n",
    "\n",
    "df_dict"
   ]
  },
  {
   "cell_type": "markdown",
   "metadata": {},
   "source": [
    "### 1.3 Conjunto de dados"
   ]
  },
  {
   "cell_type": "code",
   "execution_count": 128,
   "metadata": {},
   "outputs": [
    {
     "data": {
      "text/html": [
       "<div>\n",
       "<style scoped>\n",
       "    .dataframe tbody tr th:only-of-type {\n",
       "        vertical-align: middle;\n",
       "    }\n",
       "\n",
       "    .dataframe tbody tr th {\n",
       "        vertical-align: top;\n",
       "    }\n",
       "\n",
       "    .dataframe thead th {\n",
       "        text-align: right;\n",
       "    }\n",
       "</style>\n",
       "<table border=\"1\" class=\"dataframe\">\n",
       "  <thead>\n",
       "    <tr style=\"text-align: right;\">\n",
       "      <th></th>\n",
       "      <th>gender</th>\n",
       "      <th>NationalITy</th>\n",
       "      <th>PlaceofBirth</th>\n",
       "      <th>StageID</th>\n",
       "      <th>GradeID</th>\n",
       "      <th>SectionID</th>\n",
       "      <th>Topic</th>\n",
       "      <th>Semester</th>\n",
       "      <th>Relation</th>\n",
       "      <th>raisedhands</th>\n",
       "      <th>VisITedResources</th>\n",
       "      <th>AnnouncementsView</th>\n",
       "      <th>Discussion</th>\n",
       "      <th>ParentAnsweringSurvey</th>\n",
       "      <th>ParentschoolSatisfaction</th>\n",
       "      <th>StudentAbsenceDays</th>\n",
       "      <th>Class</th>\n",
       "    </tr>\n",
       "  </thead>\n",
       "  <tbody>\n",
       "    <tr>\n",
       "      <th>0</th>\n",
       "      <td>M</td>\n",
       "      <td>KW</td>\n",
       "      <td>KuwaIT</td>\n",
       "      <td>lowerlevel</td>\n",
       "      <td>G-04</td>\n",
       "      <td>A</td>\n",
       "      <td>IT</td>\n",
       "      <td>F</td>\n",
       "      <td>Father</td>\n",
       "      <td>15</td>\n",
       "      <td>16</td>\n",
       "      <td>2</td>\n",
       "      <td>20</td>\n",
       "      <td>Yes</td>\n",
       "      <td>Good</td>\n",
       "      <td>Under-7</td>\n",
       "      <td>M</td>\n",
       "    </tr>\n",
       "    <tr>\n",
       "      <th>1</th>\n",
       "      <td>M</td>\n",
       "      <td>KW</td>\n",
       "      <td>KuwaIT</td>\n",
       "      <td>lowerlevel</td>\n",
       "      <td>G-04</td>\n",
       "      <td>A</td>\n",
       "      <td>IT</td>\n",
       "      <td>F</td>\n",
       "      <td>Father</td>\n",
       "      <td>20</td>\n",
       "      <td>20</td>\n",
       "      <td>3</td>\n",
       "      <td>25</td>\n",
       "      <td>Yes</td>\n",
       "      <td>Good</td>\n",
       "      <td>Under-7</td>\n",
       "      <td>M</td>\n",
       "    </tr>\n",
       "    <tr>\n",
       "      <th>2</th>\n",
       "      <td>M</td>\n",
       "      <td>KW</td>\n",
       "      <td>KuwaIT</td>\n",
       "      <td>lowerlevel</td>\n",
       "      <td>G-04</td>\n",
       "      <td>A</td>\n",
       "      <td>IT</td>\n",
       "      <td>F</td>\n",
       "      <td>Father</td>\n",
       "      <td>10</td>\n",
       "      <td>7</td>\n",
       "      <td>0</td>\n",
       "      <td>30</td>\n",
       "      <td>No</td>\n",
       "      <td>Bad</td>\n",
       "      <td>Above-7</td>\n",
       "      <td>L</td>\n",
       "    </tr>\n",
       "    <tr>\n",
       "      <th>3</th>\n",
       "      <td>M</td>\n",
       "      <td>KW</td>\n",
       "      <td>KuwaIT</td>\n",
       "      <td>lowerlevel</td>\n",
       "      <td>G-04</td>\n",
       "      <td>A</td>\n",
       "      <td>IT</td>\n",
       "      <td>F</td>\n",
       "      <td>Father</td>\n",
       "      <td>30</td>\n",
       "      <td>25</td>\n",
       "      <td>5</td>\n",
       "      <td>35</td>\n",
       "      <td>No</td>\n",
       "      <td>Bad</td>\n",
       "      <td>Above-7</td>\n",
       "      <td>L</td>\n",
       "    </tr>\n",
       "    <tr>\n",
       "      <th>4</th>\n",
       "      <td>M</td>\n",
       "      <td>KW</td>\n",
       "      <td>KuwaIT</td>\n",
       "      <td>lowerlevel</td>\n",
       "      <td>G-04</td>\n",
       "      <td>A</td>\n",
       "      <td>IT</td>\n",
       "      <td>F</td>\n",
       "      <td>Father</td>\n",
       "      <td>40</td>\n",
       "      <td>50</td>\n",
       "      <td>12</td>\n",
       "      <td>50</td>\n",
       "      <td>No</td>\n",
       "      <td>Bad</td>\n",
       "      <td>Above-7</td>\n",
       "      <td>M</td>\n",
       "    </tr>\n",
       "    <tr>\n",
       "      <th>...</th>\n",
       "      <td>...</td>\n",
       "      <td>...</td>\n",
       "      <td>...</td>\n",
       "      <td>...</td>\n",
       "      <td>...</td>\n",
       "      <td>...</td>\n",
       "      <td>...</td>\n",
       "      <td>...</td>\n",
       "      <td>...</td>\n",
       "      <td>...</td>\n",
       "      <td>...</td>\n",
       "      <td>...</td>\n",
       "      <td>...</td>\n",
       "      <td>...</td>\n",
       "      <td>...</td>\n",
       "      <td>...</td>\n",
       "      <td>...</td>\n",
       "    </tr>\n",
       "    <tr>\n",
       "      <th>475</th>\n",
       "      <td>F</td>\n",
       "      <td>Jordan</td>\n",
       "      <td>Jordan</td>\n",
       "      <td>MiddleSchool</td>\n",
       "      <td>G-08</td>\n",
       "      <td>A</td>\n",
       "      <td>Chemistry</td>\n",
       "      <td>S</td>\n",
       "      <td>Father</td>\n",
       "      <td>5</td>\n",
       "      <td>4</td>\n",
       "      <td>5</td>\n",
       "      <td>8</td>\n",
       "      <td>No</td>\n",
       "      <td>Bad</td>\n",
       "      <td>Above-7</td>\n",
       "      <td>L</td>\n",
       "    </tr>\n",
       "    <tr>\n",
       "      <th>476</th>\n",
       "      <td>F</td>\n",
       "      <td>Jordan</td>\n",
       "      <td>Jordan</td>\n",
       "      <td>MiddleSchool</td>\n",
       "      <td>G-08</td>\n",
       "      <td>A</td>\n",
       "      <td>Geology</td>\n",
       "      <td>F</td>\n",
       "      <td>Father</td>\n",
       "      <td>50</td>\n",
       "      <td>77</td>\n",
       "      <td>14</td>\n",
       "      <td>28</td>\n",
       "      <td>No</td>\n",
       "      <td>Bad</td>\n",
       "      <td>Under-7</td>\n",
       "      <td>M</td>\n",
       "    </tr>\n",
       "    <tr>\n",
       "      <th>477</th>\n",
       "      <td>F</td>\n",
       "      <td>Jordan</td>\n",
       "      <td>Jordan</td>\n",
       "      <td>MiddleSchool</td>\n",
       "      <td>G-08</td>\n",
       "      <td>A</td>\n",
       "      <td>Geology</td>\n",
       "      <td>S</td>\n",
       "      <td>Father</td>\n",
       "      <td>55</td>\n",
       "      <td>74</td>\n",
       "      <td>25</td>\n",
       "      <td>29</td>\n",
       "      <td>No</td>\n",
       "      <td>Bad</td>\n",
       "      <td>Under-7</td>\n",
       "      <td>M</td>\n",
       "    </tr>\n",
       "    <tr>\n",
       "      <th>478</th>\n",
       "      <td>F</td>\n",
       "      <td>Jordan</td>\n",
       "      <td>Jordan</td>\n",
       "      <td>MiddleSchool</td>\n",
       "      <td>G-08</td>\n",
       "      <td>A</td>\n",
       "      <td>History</td>\n",
       "      <td>F</td>\n",
       "      <td>Father</td>\n",
       "      <td>30</td>\n",
       "      <td>17</td>\n",
       "      <td>14</td>\n",
       "      <td>57</td>\n",
       "      <td>No</td>\n",
       "      <td>Bad</td>\n",
       "      <td>Above-7</td>\n",
       "      <td>L</td>\n",
       "    </tr>\n",
       "    <tr>\n",
       "      <th>479</th>\n",
       "      <td>F</td>\n",
       "      <td>Jordan</td>\n",
       "      <td>Jordan</td>\n",
       "      <td>MiddleSchool</td>\n",
       "      <td>G-08</td>\n",
       "      <td>A</td>\n",
       "      <td>History</td>\n",
       "      <td>S</td>\n",
       "      <td>Father</td>\n",
       "      <td>35</td>\n",
       "      <td>14</td>\n",
       "      <td>23</td>\n",
       "      <td>62</td>\n",
       "      <td>No</td>\n",
       "      <td>Bad</td>\n",
       "      <td>Above-7</td>\n",
       "      <td>L</td>\n",
       "    </tr>\n",
       "  </tbody>\n",
       "</table>\n",
       "<p>480 rows × 17 columns</p>\n",
       "</div>"
      ],
      "text/plain": [
       "    gender NationalITy PlaceofBirth       StageID GradeID SectionID  \\\n",
       "0        M          KW       KuwaIT    lowerlevel    G-04         A   \n",
       "1        M          KW       KuwaIT    lowerlevel    G-04         A   \n",
       "2        M          KW       KuwaIT    lowerlevel    G-04         A   \n",
       "3        M          KW       KuwaIT    lowerlevel    G-04         A   \n",
       "4        M          KW       KuwaIT    lowerlevel    G-04         A   \n",
       "..     ...         ...          ...           ...     ...       ...   \n",
       "475      F      Jordan       Jordan  MiddleSchool    G-08         A   \n",
       "476      F      Jordan       Jordan  MiddleSchool    G-08         A   \n",
       "477      F      Jordan       Jordan  MiddleSchool    G-08         A   \n",
       "478      F      Jordan       Jordan  MiddleSchool    G-08         A   \n",
       "479      F      Jordan       Jordan  MiddleSchool    G-08         A   \n",
       "\n",
       "         Topic Semester Relation  raisedhands  VisITedResources  \\\n",
       "0           IT        F   Father           15                16   \n",
       "1           IT        F   Father           20                20   \n",
       "2           IT        F   Father           10                 7   \n",
       "3           IT        F   Father           30                25   \n",
       "4           IT        F   Father           40                50   \n",
       "..         ...      ...      ...          ...               ...   \n",
       "475  Chemistry        S   Father            5                 4   \n",
       "476    Geology        F   Father           50                77   \n",
       "477    Geology        S   Father           55                74   \n",
       "478    History        F   Father           30                17   \n",
       "479    History        S   Father           35                14   \n",
       "\n",
       "     AnnouncementsView  Discussion ParentAnsweringSurvey  \\\n",
       "0                    2          20                   Yes   \n",
       "1                    3          25                   Yes   \n",
       "2                    0          30                    No   \n",
       "3                    5          35                    No   \n",
       "4                   12          50                    No   \n",
       "..                 ...         ...                   ...   \n",
       "475                  5           8                    No   \n",
       "476                 14          28                    No   \n",
       "477                 25          29                    No   \n",
       "478                 14          57                    No   \n",
       "479                 23          62                    No   \n",
       "\n",
       "    ParentschoolSatisfaction StudentAbsenceDays Class  \n",
       "0                       Good            Under-7     M  \n",
       "1                       Good            Under-7     M  \n",
       "2                        Bad            Above-7     L  \n",
       "3                        Bad            Above-7     L  \n",
       "4                        Bad            Above-7     M  \n",
       "..                       ...                ...   ...  \n",
       "475                      Bad            Above-7     L  \n",
       "476                      Bad            Under-7     M  \n",
       "477                      Bad            Under-7     M  \n",
       "478                      Bad            Above-7     L  \n",
       "479                      Bad            Above-7     L  \n",
       "\n",
       "[480 rows x 17 columns]"
      ]
     },
     "execution_count": 128,
     "metadata": {},
     "output_type": "execute_result"
    }
   ],
   "source": [
    "data_path = Path('../data/raw/data.csv')\n",
    "df = (\n",
    "    pd\n",
    "    .read_csv(data_path)\n",
    ") #Obtendo o dataset\n",
    "\n",
    "df"
   ]
  },
  {
   "cell_type": "code",
   "execution_count": 129,
   "metadata": {},
   "outputs": [
    {
     "name": "stdout",
     "output_type": "stream",
     "text": [
      "<class 'pandas.core.frame.DataFrame'>\n",
      "RangeIndex: 480 entries, 0 to 479\n",
      "Data columns (total 17 columns):\n",
      " #   Column                    Non-Null Count  Dtype \n",
      "---  ------                    --------------  ----- \n",
      " 0   gender                    480 non-null    object\n",
      " 1   NationalITy               480 non-null    object\n",
      " 2   PlaceofBirth              480 non-null    object\n",
      " 3   StageID                   480 non-null    object\n",
      " 4   GradeID                   480 non-null    object\n",
      " 5   SectionID                 480 non-null    object\n",
      " 6   Topic                     480 non-null    object\n",
      " 7   Semester                  480 non-null    object\n",
      " 8   Relation                  480 non-null    object\n",
      " 9   raisedhands               480 non-null    int64 \n",
      " 10  VisITedResources          480 non-null    int64 \n",
      " 11  AnnouncementsView         480 non-null    int64 \n",
      " 12  Discussion                480 non-null    int64 \n",
      " 13  ParentAnsweringSurvey     480 non-null    object\n",
      " 14  ParentschoolSatisfaction  480 non-null    object\n",
      " 15  StudentAbsenceDays        480 non-null    object\n",
      " 16  Class                     480 non-null    object\n",
      "dtypes: int64(4), object(13)\n",
      "memory usage: 63.9+ KB\n"
     ]
    }
   ],
   "source": [
    "df.info()"
   ]
  },
  {
   "cell_type": "markdown",
   "metadata": {},
   "source": [
    "### 1.4 Dados faltantes\n",
    "Analisaremos se há algum dado faltante em nosso dataset."
   ]
  },
  {
   "cell_type": "code",
   "execution_count": 130,
   "metadata": {},
   "outputs": [
    {
     "data": {
      "text/plain": [
       "gender                      0\n",
       "NationalITy                 0\n",
       "PlaceofBirth                0\n",
       "StageID                     0\n",
       "GradeID                     0\n",
       "SectionID                   0\n",
       "Topic                       0\n",
       "Semester                    0\n",
       "Relation                    0\n",
       "raisedhands                 0\n",
       "VisITedResources            0\n",
       "AnnouncementsView           0\n",
       "Discussion                  0\n",
       "ParentAnsweringSurvey       0\n",
       "ParentschoolSatisfaction    0\n",
       "StudentAbsenceDays          0\n",
       "Class                       0\n",
       "dtype: int64"
      ]
     },
     "execution_count": 130,
     "metadata": {},
     "output_type": "execute_result"
    }
   ],
   "source": [
    "df.isnull().sum()"
   ]
  },
  {
   "cell_type": "markdown",
   "metadata": {},
   "source": [
    "Felizmente, não há nenhum dado faltante em nosso dataset."
   ]
  },
  {
   "cell_type": "markdown",
   "metadata": {},
   "source": [
    "## 2. Perguntas de partida e hipóteses"
   ]
  },
  {
   "cell_type": "markdown",
   "metadata": {},
   "source": [
    "1 - Como o gênero dos estudantes afeta seu desempenho acadêmico? \n",
    "\n",
    "2 - Existe uma correlação entre a nacionalidade ou o local de nascimento dos estudantes e seu desempenho acadêmico? \n",
    "\n",
    "3 - A utilização de recursos de ensino (VisITedResources) está correlacionada com o desempenho acadêmico? \n",
    "\n",
    "4 - Existe uma relação entre a participação em discussões (Discussion) e o desempenho acadêmico? \n",
    "\n",
    "5 - Os dias de ausência do estudante (StudentAbsenceDays) afetam seu desempenho acadêmico? \n",
    "\n",
    "6 - Há tendências de desempenho ao longo dos diferentes semestres (Semester)? "
   ]
  },
  {
   "cell_type": "markdown",
   "metadata": {},
   "source": [
    "## 3. Insights"
   ]
  },
  {
   "cell_type": "markdown",
   "metadata": {},
   "source": [
    "### Relação de desempenho com gênero dos alunos"
   ]
  },
  {
   "cell_type": "code",
   "execution_count": 135,
   "metadata": {},
   "outputs": [
    {
     "name": "stdout",
     "output_type": "stream",
     "text": [
      "gender\n",
      "M    305\n",
      "F    175\n",
      "Name: count, dtype: int64\n"
     ]
    }
   ],
   "source": [
    "# Contagem de alunos por gênero\n",
    "contagem_gender = df['gender'].value_counts()\n",
    "print(contagem_gender)"
   ]
  },
  {
   "cell_type": "code",
   "execution_count": 136,
   "metadata": {},
   "outputs": [
    {
     "name": "stdout",
     "output_type": "stream",
     "text": [
      "480\n"
     ]
    }
   ],
   "source": [
    "print(contagem_gender.sum())"
   ]
  },
  {
   "cell_type": "code",
   "execution_count": 138,
   "metadata": {},
   "outputs": [
    {
     "name": "stdout",
     "output_type": "stream",
     "text": [
      "Class\n",
      "M    211\n",
      "H    142\n",
      "L    127\n",
      "Name: count, dtype: int64\n"
     ]
    }
   ],
   "source": [
    "contagem_class = df['Class'].value_counts()\n",
    "print(contagem_class)"
   ]
  },
  {
   "cell_type": "code",
   "execution_count": 140,
   "metadata": {},
   "outputs": [
    {
     "name": "stdout",
     "output_type": "stream",
     "text": [
      "Class\n",
      "M    211\n",
      "H    142\n",
      "L    127\n",
      "Name: count, dtype: int64\n"
     ]
    }
   ],
   "source": [
    "contagem_class = df['Class'].value_counts()\n",
    "print(contagem_class)"
   ]
  },
  {
   "cell_type": "markdown",
   "metadata": {},
   "source": [
    "##### Conclusões:\n",
    "* Apesar da maior parte dos estudantes analisados serem do sexo masculino (305 de 480):\n",
    "\n",
    "* 42.8% das mulheres tem classificação High contra 21.9% dos homens.\n",
    "\n",
    "* 43.4% das mulheres tem classificação Medium contra 44.2% dos homens.\n",
    "\n",
    "* 13.7% das mulheres tem classificação Low contra 33.7% dos homens.\n",
    "\n",
    "* Portanto, as mulheres possuem um melhor desempenho."
   ]
  },
  {
   "cell_type": "markdown",
   "metadata": {},
   "source": [
    "### Relação da nacionalidade com o desempenho dos alunos"
   ]
  },
  {
   "cell_type": "code",
   "execution_count": 142,
   "metadata": {},
   "outputs": [
    {
     "name": "stdout",
     "output_type": "stream",
     "text": [
      "NationalITy\n",
      "KW             179\n",
      "Jordan         172\n",
      "Palestine       28\n",
      "Iraq            22\n",
      "lebanon         17\n",
      "Tunis           12\n",
      "SaudiArabia     11\n",
      "Egypt            9\n",
      "Syria            7\n",
      "USA              6\n",
      "Iran             6\n",
      "Lybia            6\n",
      "Morocco          4\n",
      "venzuela         1\n",
      "Name: count, dtype: int64\n"
     ]
    }
   ],
   "source": [
    "contagem_nationality = df['NationalITy'].value_counts()\n",
    "print(contagem_nationality)"
   ]
  },
  {
   "cell_type": "code",
   "execution_count": 143,
   "metadata": {},
   "outputs": [
    {
     "name": "stdout",
     "output_type": "stream",
     "text": [
      "PlaceofBirth  NationalITy  Class\n",
      "Egypt         Egypt        H         2\n",
      "              Jordan       H         1\n",
      "Iraq          Iraq         H        14\n",
      "Jordan        Jordan       H        44\n",
      "              Palestine    H         8\n",
      "              lebanon      H         1\n",
      "KuwaIT        KW           H        35\n",
      "Morocco       Morocco      H         1\n",
      "Palestine     Jordan       H         2\n",
      "              Palestine    H         4\n",
      "SaudiArabia   Jordan       H         3\n",
      "              SaudiArabia  H         4\n",
      "Syria         Syria        H         2\n",
      "Tunis         Tunis        H         3\n",
      "USA           KW           H         1\n",
      "              SaudiArabia  H         2\n",
      "              USA          H         3\n",
      "lebanon       Jordan       H         3\n",
      "              lebanon      H         8\n",
      "venzuela      venzuela     H         1\n",
      "Egypt         Egypt        L         3\n",
      "Iran          Iran         L         2\n",
      "Jordan        Jordan       L        33\n",
      "              Syria        L         1\n",
      "KuwaIT        KW           L        68\n",
      "              Tunis        L         1\n",
      "Lybia         Lybia        L         6\n",
      "Morocco       Morocco      L         1\n",
      "SaudiArabia   Jordan       L         4\n",
      "Syria         Syria        L         1\n",
      "Tunis         Tunis        L         3\n",
      "USA           SaudiArabia  L         1\n",
      "              USA          L         1\n",
      "lebanon       lebanon      L         2\n",
      "Egypt         Egypt        M         3\n",
      "Iran          Iran         M         4\n",
      "Iraq          Iraq         M         8\n",
      "Jordan        Jordan       M        75\n",
      "              Palestine    M        14\n",
      "KuwaIT        Egypt        M         1\n",
      "              Jordan       M         1\n",
      "              KW           M        74\n",
      "Morocco       Morocco      M         2\n",
      "Palestine     Jordan       M         2\n",
      "              Palestine    M         2\n",
      "SaudiArabia   Jordan       M         2\n",
      "              SaudiArabia  M         2\n",
      "              Tunis        M         1\n",
      "Syria         Syria        M         3\n",
      "Tunis         Tunis        M         3\n",
      "USA           Jordan       M         2\n",
      "              KW           M         1\n",
      "              SaudiArabia  M         2\n",
      "              Tunis        M         1\n",
      "              USA          M         2\n",
      "lebanon       lebanon      M         6\n",
      "dtype: int64\n"
     ]
    }
   ],
   "source": [
    "# Calcular a contagem de cada categoria de notas por nacionalidade\n",
    "contagem_por_nacionalidade = df.groupby(['PlaceofBirth','NationalITy', 'Class']).size()\n",
    "\n",
    "# Ordenar por nacionalidade em ordem ascendente\n",
    "contagem_por_nacionalidade_ordenada = contagem_por_nacionalidade.sort_index(level='Class')\n",
    "\n",
    "print(contagem_por_nacionalidade_ordenada)"
   ]
  },
  {
   "cell_type": "markdown",
   "metadata": {},
   "source": [
    "##### Conclusões:\n",
    "* Cidadãos e nascidos na Jordânia possuem maior número de alunos com classificação High: 44\n",
    "\n",
    "* Cidadãos e nascidos no Kuwait possuem o segundo maior número de alunos com classificação High: 35\n",
    "\n",
    "* Cidadãos e nascidos na Jordânia possuem maior número de alunos com classificação Medium: 75\n",
    "\n",
    "* Cidadãos e nascidos no Kuwait possuem o segundo maior número de alunos com classificação Medium: 74\n",
    "\n",
    "* Cidadãos e nascidos no Kuwait possuem maior número de alunos com classificação Low: 68\n",
    "\n",
    "* Cidadãos e nascidos na Jordânia possuem o segundo maior número de alunos com classificação Low: 33\n",
    "\n",
    "Dessa forma, Jordânia e Kuwait são a maior parte da amostra possuindo valores de quantidade de estudantes de 172 e 179 respectivamente, respresentando 73 % do total da amostra. E mesmo que Kuwait possua maior número de estudantes, Jordânia se mostrou com maior número de alunos com melhor desempenho acadêmico."
   ]
  },
  {
   "cell_type": "markdown",
   "metadata": {},
   "source": [
    "### Relação de recursos de ensino com o desempenho dos estudantes"
   ]
  },
  {
   "cell_type": "code",
   "execution_count": 145,
   "metadata": {},
   "outputs": [
    {
     "name": "stdout",
     "output_type": "stream",
     "text": [
      "Class\n",
      "H    78.746479\n",
      "L    18.322835\n",
      "M    60.635071\n",
      "Name: VisITedResources, dtype: float64\n"
     ]
    }
   ],
   "source": [
    "# Calcular a média da coluna \"VisITedResources\" para cada categoria da coluna \"Class\"\n",
    "media_recursos_por_desempenho = df.groupby('Class')['VisITedResources'].mean()\n",
    "\n",
    "print(media_recursos_por_desempenho)\n"
   ]
  },
  {
   "cell_type": "code",
   "execution_count": 146,
   "metadata": {},
   "outputs": [
    {
     "name": "stderr",
     "output_type": "stream",
     "text": [
      "C:\\Users\\letic\\AppData\\Local\\Packages\\PythonSoftwareFoundation.Python.3.11_qbz5n2kfra8p0\\LocalCache\\local-packages\\Python311\\site-packages\\seaborn\\_oldcore.py:1498: FutureWarning: is_categorical_dtype is deprecated and will be removed in a future version. Use isinstance(dtype, CategoricalDtype) instead\n",
      "  if pd.api.types.is_categorical_dtype(vector):\n",
      "C:\\Users\\letic\\AppData\\Local\\Packages\\PythonSoftwareFoundation.Python.3.11_qbz5n2kfra8p0\\LocalCache\\local-packages\\Python311\\site-packages\\seaborn\\_oldcore.py:1498: FutureWarning: is_categorical_dtype is deprecated and will be removed in a future version. Use isinstance(dtype, CategoricalDtype) instead\n",
      "  if pd.api.types.is_categorical_dtype(vector):\n",
      "C:\\Users\\letic\\AppData\\Local\\Packages\\PythonSoftwareFoundation.Python.3.11_qbz5n2kfra8p0\\LocalCache\\local-packages\\Python311\\site-packages\\seaborn\\_oldcore.py:1498: FutureWarning: is_categorical_dtype is deprecated and will be removed in a future version. Use isinstance(dtype, CategoricalDtype) instead\n",
      "  if pd.api.types.is_categorical_dtype(vector):\n"
     ]
    },
    {
     "data": {
      "image/png": "[encoded data removed]",
      "text/plain": [
       "<Figure size 1000x600 with 1 Axes>"
      ]
     },
     "metadata": {},
     "output_type": "display_data"
    }
   ],
   "source": [
    "plt.figure(figsize=(10, 6))\n",
    "sns.boxplot(x='Class', y='VisITedResources', data=df)\n",
    "plt.xlabel('Desempenho Acadêmico (Class)')\n",
    "plt.ylabel('Recursos Visitados')\n",
    "plt.title('Relação entre Recursos Visitados e Desempenho Acadêmico')\n",
    "plt.show()"
   ]
  },
  {
   "cell_type": "markdown",
   "metadata": {},
   "source": [
    "\n",
    "##### Conclusões:\n",
    "Podemos observar que em média, os estudantes na categoria \"H\" (High) tendem a visitar mais recursos de ensino em comparação com os estudantes nas categorias \"L\" (Low) e \"M\" (Medium). Isso sugere uma possível relação entre o nível de performance acadêmica e o engajamento com os recursos de ensino."
   ]
  },
  {
   "cell_type": "markdown",
   "metadata": {},
   "source": [
    "### Relação entre participação dos alunos e seu desempenho"
   ]
  },
  {
   "cell_type": "code",
   "execution_count": 147,
   "metadata": {},
   "outputs": [
    {
     "name": "stdout",
     "output_type": "stream",
     "text": [
      "Class\n",
      "H    53.661972\n",
      "L    30.834646\n",
      "M    43.791469\n",
      "Name: Discussion, dtype: float64\n"
     ]
    }
   ],
   "source": [
    "# Calcular a contagem de cada categoria de \"Class\" por participação em discussões\n",
    "media_por_discussao = df.groupby('Class')['Discussion'].mean()\n",
    "\n",
    "print(media_por_discussao)\n"
   ]
  },
  {
   "cell_type": "code",
   "execution_count": 148,
   "metadata": {},
   "outputs": [
    {
     "name": "stderr",
     "output_type": "stream",
     "text": [
      "C:\\Users\\letic\\AppData\\Local\\Packages\\PythonSoftwareFoundation.Python.3.11_qbz5n2kfra8p0\\LocalCache\\local-packages\\Python311\\site-packages\\seaborn\\_oldcore.py:1498: FutureWarning: is_categorical_dtype is deprecated and will be removed in a future version. Use isinstance(dtype, CategoricalDtype) instead\n",
      "  if pd.api.types.is_categorical_dtype(vector):\n",
      "C:\\Users\\letic\\AppData\\Local\\Packages\\PythonSoftwareFoundation.Python.3.11_qbz5n2kfra8p0\\LocalCache\\local-packages\\Python311\\site-packages\\seaborn\\_oldcore.py:1498: FutureWarning: is_categorical_dtype is deprecated and will be removed in a future version. Use isinstance(dtype, CategoricalDtype) instead\n",
      "  if pd.api.types.is_categorical_dtype(vector):\n",
      "C:\\Users\\letic\\AppData\\Local\\Packages\\PythonSoftwareFoundation.Python.3.11_qbz5n2kfra8p0\\LocalCache\\local-packages\\Python311\\site-packages\\seaborn\\_oldcore.py:1498: FutureWarning: is_categorical_dtype is deprecated and will be removed in a future version. Use isinstance(dtype, CategoricalDtype) instead\n",
      "  if pd.api.types.is_categorical_dtype(vector):\n"
     ]
    },
    {
     "data": {
      "image/png": "[encoded data removed]",
      "text/plain": [
       "<Figure size 1000x600 with 1 Axes>"
      ]
     },
     "metadata": {},
     "output_type": "display_data"
    }
   ],
   "source": [
    "# Gráfico de caixa para visualizar a participação em discussões por categoria \"Class\"\n",
    "plt.figure(figsize=(10, 6))\n",
    "sns.boxplot(x='Class', y='Discussion', data=df)\n",
    "plt.xlabel('Desempenho Acadêmico (Class)')\n",
    "plt.ylabel('Participação em Discussões')\n",
    "plt.title('Relação entre Participação em Discussões e Desempenho Acadêmico')\n",
    "plt.show()"
   ]
  },
  {
   "cell_type": "markdown",
   "metadata": {},
   "source": [
    "##### Conclusões:\n",
    "Podemos observar que em média, os estudantes na categoria \"H\" (High) tendem a participar mais em discussões em comparação com os estudantes nas categorias \"L\" (Low) e \"M\" (Medium). Isso sugere uma possível relação entre o nível de performance acadêmica e a participação de discussões e debates dos estudantes, desmonstrando engajamento escolar."
   ]
  },
  {
   "cell_type": "markdown",
   "metadata": {},
   "source": [
    "### Relação de número de faltas dos alunos e seu desempenho"
   ]
  },
  {
   "cell_type": "code",
   "execution_count": 149,
   "metadata": {},
   "outputs": [
    {
     "name": "stdout",
     "output_type": "stream",
     "text": [
      "StudentAbsenceDays  Above-7  Under-7\n",
      "Class                               \n",
      "H                         4      138\n",
      "L                       116       11\n",
      "M                        71      140\n"
     ]
    }
   ],
   "source": [
    "tabela_frequencia = pd.crosstab(index=df['Class'], columns=df['StudentAbsenceDays'])\n",
    "\n",
    "print(tabela_frequencia)"
   ]
  },
  {
   "cell_type": "code",
   "execution_count": 151,
   "metadata": {},
   "outputs": [
    {
     "data": {
      "text/plain": [
       "<Figure size 1000x600 with 0 Axes>"
      ]
     },
     "metadata": {},
     "output_type": "display_data"
    },
    {
     "data": {
      "image/png": "[encoded data removed]",
      "text/plain": [
       "<Figure size 640x480 with 1 Axes>"
      ]
     },
     "metadata": {},
     "output_type": "display_data"
    }
   ],
   "source": [
    "plt.figure(figsize=(10, 6))\n",
    "tabela_frequencia.plot(kind='bar', stacked=True)\n",
    "plt.xlabel('Desempenho Acadêmico (Class)')\n",
    "plt.ylabel('Contagem')\n",
    "plt.title('Distribuição de Frequência de Ausência por Desempenho Acadêmico')\n",
    "plt.legend(title='Número de Faltas', loc='upper left')\n",
    "plt.show()\n"
   ]
  },
  {
   "cell_type": "markdown",
   "metadata": {},
   "source": [
    "##### Conclusões:\n",
    "Dessa forma, podemos observar que a frequencia de alunos com número de faltas menor que 7 é muito maior entre os alunos com alto desempenho enquanto a frequencia de faltas maior que 7 é muito maior entre os alunos com baixo desempenho, desmonstrando assim uma relação entre o número de faltas e o desempenho escolar."
   ]
  },
  {
   "cell_type": "markdown",
   "metadata": {},
   "source": [
    "### Tendência de desempenho ao longo dos semestres"
   ]
  },
  {
   "cell_type": "code",
   "execution_count": 152,
   "metadata": {},
   "outputs": [
    {
     "name": "stdout",
     "output_type": "stream",
     "text": [
      "Class      H   L    M\n",
      "Semester             \n",
      "F         62  77  106\n",
      "S         80  50  105\n"
     ]
    }
   ],
   "source": [
    "tabela_frequencia = pd.crosstab(index=df['Semester'], columns=df['Class'])\n",
    "\n",
    "print(tabela_frequencia)"
   ]
  },
  {
   "cell_type": "code",
   "execution_count": 153,
   "metadata": {},
   "outputs": [
    {
     "data": {
      "text/plain": [
       "<Figure size 1000x600 with 0 Axes>"
      ]
     },
     "metadata": {},
     "output_type": "display_data"
    },
    {
     "data": {
      "image/png": "[encoded data removed]",
      "text/plain": [
       "<Figure size 640x480 with 1 Axes>"
      ]
     },
     "metadata": {},
     "output_type": "display_data"
    }
   ],
   "source": [
    "plt.figure(figsize=(10, 6))\n",
    "tabela_frequencia.plot(kind='barh')\n",
    "plt.ylabel('Semestre')\n",
    "plt.xlabel('Contagem')\n",
    "plt.title('Distribuição de Desempenho Acadêmico por Semestre (Barras Horizontais)')\n",
    "plt.legend(title='Class', loc='lower right')\n",
    "plt.show()\n"
   ]
  },
  {
   "cell_type": "markdown",
   "metadata": {},
   "source": [
    "##### Conclusões:\n",
    "Podemos observar que, no segundo semestre, o número de estudantes classificados como High subiu e os classificados como Low diminuiu, enquanto os valores de Medium permaneceram quase iguais, demonstrando assim um melhor desempenho geral no segundo semestre."
   ]
  }
 ],
 "metadata": {
  "kernelspec": {
   "display_name": "Python 3.8.10 ('.venv': poetry)",
   "language": "python",
   "name": "python3"
  },
  "language_info": {
   "codemirror_mode": {
    "name": "ipython",
    "version": 3
   },
   "file_extension": ".py",
   "mimetype": "text/x-python",
   "name": "python",
   "nbconvert_exporter": "python",
   "pygments_lexer": "ipython3",
   "version": "3.11.5"
  },
  "orig_nbformat": 4,
  "vscode": {
   "interpreter": {
    "hash": "eb3c3305d8b111f0102f4f519c5f17abd113fe74db6752c355e994a9008815ef"
   }
  }
 },
 "nbformat": 4,
 "nbformat_minor": 2
}
